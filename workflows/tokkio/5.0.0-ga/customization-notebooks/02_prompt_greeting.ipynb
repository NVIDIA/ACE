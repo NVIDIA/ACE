{
    "cells": [
        {
            "cell_type": "markdown",
            "id": "291254c8",
            "metadata": {},
            "source": [
                "\n",
                "Copyright(c) 2025 NVIDIA Corporation. All rights reserved.\n",
                "\n",
                "NVIDIA Corporation and its licensors retain all intellectual property\n",
                "and proprietary rights in and to this software, related documentation\n",
                "and any modifications thereto.Any use, reproduction, disclosure or\n",
                "distribution of this software and related documentation without an express\n",
                "license agreement from NVIDIA Corporation is strictly prohibited."
            ]
        },
        {
            "cell_type": "markdown",
            "metadata": {},
            "source": [
                "# Customize Avatar prompt and the greeting\n",
                "\n",
                "This notebook provides step-by-step instructions for customizing the prompt and greeting for the Digital Human."
            ]
        },
        {
            "cell_type": "markdown",
            "id": "682acbe6",
            "metadata": {},
            "source": [
                "### Ensure that the Pre-requisites are met\n",
                "\n",
                "Please run through the steps noted in the setup prequisites notebook to ensure that you have the necessary setup in place.\n",
                "\n",
                "Check the status of the application again by running the following command. \n",
                "\n",
                "Note: You will need to select the python environment to run the notebook for the first time. "
            ]
        },
        {
            "cell_type": "code",
            "execution_count": 1,
            "id": "acfd9e76",
            "metadata": {},
            "outputs": [
                {
                    "name": "stdout",
                    "output_type": "stream",
                    "text": [
                        "NAME                                                       READY   STATUS    RESTARTS   AGE\n",
                        "a2f-a2f-deployment-7bb498cf45-4sfhr                        1/1     Running   0          30m\n",
                        "ace-configurator-deployment-65dfd59998-5n9tk               1/1     Running   0          30m\n",
                        "ace-controller-ace-controller-deployment-0                 1/1     Running   0          30m\n",
                        "ace-controller-sdr-envoy-sdr-deployment-5b49456b44-tcpzv   4/4     Running   0          30m\n",
                        "anim-graph-sdr-envoy-sdr-deployment-6bd64999f8-v2pgq       4/4     Running   0          30m\n",
                        "ia-animation-graph-microservice-deployment-0               1/1     Running   0          30m\n",
                        "ia-unreal-renderer-microservice-deployment-0               3/3     Running   0          30m\n",
                        "redis-redis-7c646495c7-h8ssj                               1/1     Running   0          30m\n",
                        "redis-timeseries-redis-timeseries-9979cbcf8-6sq47          1/1     Running   0          30m\n",
                        "riva-speech-7cc6dd4d75-wj547                               1/1     Running   0          30m\n",
                        "tokkio-ingress-mgr-deployment-86868b776f-ql4kh             2/2     Running   0          30m\n",
                        "tokkio-ui-deployment-57fb68cfc8-gpz9b                      1/1     Running   0          30m\n",
                        "triton0-5656b8cd78-vjggp                                   1/1     Running   0          30m\n",
                        "ue-renderer-sdr-envoy-sdr-deployment-76ccb95bc6-dmcml      4/4     Running   0          30m\n",
                        "vms-vms-ff5ddc877-47djn                                    1/1     Running   0          30m\n"
                    ]
                }
            ],
            "source": [
                "!kubectl get po -n app"
            ]
        },
        {
            "cell_type": "markdown",
            "id": "60317ac8",
            "metadata": {},
            "source": [
                "### Download the ACE Controller Configuration\n",
                "* Ensure that the downloaded ACE Controller configuration is in sync. You can click on the download button again to download the latest version of the configuration. "
            ]
        },
        {
            "cell_type": "markdown",
            "id": "b701ba8a",
            "metadata": {},
            "source": [
                "![ACE Configurator](pictures/ace_configurator_sync.png)"
            ]
        },
        {
            "cell_type": "markdown",
            "id": "9ec6fffb",
            "metadata": {},
            "source": [
                "###  Edit the `config.yaml` file\n",
                "1. Navigate to the following path in your file system:\n",
                "   ```\n",
                "   ace-controller-ace-controller-deployment -> assets -> app-storage-volume -> configs -> config.yaml\n",
                "   ```\n",
                "2. Open the `config.yaml` file.\n",
                "3. Update the following sections:\n",
                "   - **Avatar prompt**: Modify the value based on your requirements.\n",
                "   - **user_presence** section: Update the `welcome_msg` or `farewell_msg` greetings to personalize the digital human's dialogue.\n",
                "   ```"
            ]
        },
        {
            "cell_type": "code",
            "execution_count": null,
            "id": "2fd529d8",
            "metadata": {},
            "outputs": [],
            "source": [
                "# Example snippet of `config.yaml`\n",
                "OpenAILLMContext:\n",
                "    name: \"Benji\"\n",
                "    prompt: \"You are {name}, a friendly mathematics teacher who enjoys telling math jokes.\n",
                "  \n",
                "UserPresenceProcesssor:\n",
                "    welcome_message: \"Hello\"\n",
                "    farewell_message: \"Bye\""
            ]
        },
        {
            "cell_type": "markdown",
            "id": "87647ae1",
            "metadata": {},
            "source": [
                "### Upload the Changes\n",
                "In the ACE Configurator view in VSCode, click the **Upload** button to upload the modified `config.yaml` file."
            ]
        },
        {
            "cell_type": "markdown",
            "id": "779704ba",
            "metadata": {},
            "source": [
                "![Avatar Controller Upload Config](pictures/upload_config.png)"
            ]
        },
        {
            "cell_type": "markdown",
            "id": "f27f3f18",
            "metadata": {},
            "source": [
                "Ensure that the changes are finished updating. This might take a few seconds.\n",
                "\n",
                "Once the changes are successfully updated. the ACE Configurator view will show a green `Synced` symbol again for the app-storage-volume. "
            ]
        },
        {
            "cell_type": "markdown",
            "id": "8994b0a4",
            "metadata": {},
            "source": [
                "![Avatar Controller Upload Config](pictures/ace-configurator-synced.png)"
            ]
        },
        {
            "cell_type": "markdown",
            "id": "bc1c2bd4",
            "metadata": {},
            "source": [
                "### Refresh the Browser UI\n",
                "1. Open the browser UI where the digital human is hosted. (your current URL:30111)\n",
                "2. Refresh the page. (Note: you might need to refresh it a couple of times)\n",
                "3. Start a conversation with the digital human, and you should see it introducing itself with the new greeting and prompt you configured."
            ]
        },
        {
            "cell_type": "markdown",
            "metadata": {},
            "source": [
                "### Test the Updated Digital Human Behavior\n",
                "Start a conversation with the digital human in the refreshed UI. Observe whether the digital human introduces itself in accordance with the updated prompt and uses the greetings specified in `config.yaml`."
            ]
        },
        {
            "cell_type": "markdown",
            "id": "44d4c54c",
            "metadata": {},
            "source": [
                "### Conclusion\n",
                "You have successfully reconfigured the ACE digital human and tested the changes. 🎉"
            ]
        }
    ],
    "metadata": {
        "kernelspec": {
            "display_name": "base",
            "language": "python",
            "name": "python3"
        },
        "language_info": {
            "codemirror_mode": {
                "name": "ipython",
                "version": 3
            },
            "file_extension": ".py",
            "mimetype": "text/x-python",
            "name": "python",
            "nbconvert_exporter": "python",
            "pygments_lexer": "ipython3",
            "version": "3.11.5"
        }
    },
    "nbformat": 4,
    "nbformat_minor": 5
}
