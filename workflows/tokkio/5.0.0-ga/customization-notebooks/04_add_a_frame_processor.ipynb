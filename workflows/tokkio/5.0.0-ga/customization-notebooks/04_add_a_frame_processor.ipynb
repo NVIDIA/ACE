{
 "cells": [
  {
   "cell_type": "markdown",
   "id": "ea2d7d89",
   "metadata": {},
   "source": [
    "\n",
    "Copyright(c) 2025 NVIDIA Corporation. All rights reserved.\n",
    "\n",
    "NVIDIA Corporation and its licensors retain all intellectual property\n",
    "and proprietary rights in and to this software, related documentation\n",
    "and any modifications thereto.Any use, reproduction, disclosure or\n",
    "distribution of this software and related documentation without an express\n",
    "license agreement from NVIDIA Corporation is strictly prohibited."
   ]
  },
  {
   "cell_type": "markdown",
   "metadata": {},
   "source": [
    "# Add custom logic to the Digital Human pipeline\n",
    "\n",
    "This notebook provides step-by-step instructions for adding custom logic (like guardrails) to the Digital Human pipeline.\n"
   ]
  },
  {
   "cell_type": "markdown",
   "id": "83ac94c6",
   "metadata": {},
   "source": [
    "### Ensure that the Pre-requisites are met\n",
    "\n",
    "Please run through the steps noted in the setup prequisites notebook to ensure that you have the necessary setup in place.\n",
    "\n",
    "Check the status of the application again by running the following command. \n",
    "\n",
    "Note: You will need to select the python environment to run the notebook for the first time. "
   ]
  },
  {
   "cell_type": "code",
   "execution_count": null,
   "id": "aad607f8",
   "metadata": {},
   "outputs": [],
   "source": [
    "!kubectl get po -n app"
   ]
  },
  {
   "cell_type": "markdown",
   "id": "718eb463",
   "metadata": {},
   "source": [
    "### Download the ACE Controller Configuration\n",
    "* Ensure that the downloaded ACE Controller configuration is in sync. You can click on the download button again to download the latest version of the configuration. "
   ]
  },
  {
   "cell_type": "markdown",
   "id": "8a5ef241",
   "metadata": {},
   "source": [
    "![ACE Configurator](pictures/ace_configurator_sync.png)"
   ]
  },
  {
   "cell_type": "markdown",
   "id": "b97f3029",
   "metadata": {},
   "source": [
    "###  Update the bot pipeline\n",
    "1. Navigate to the following path in your file system:\n",
    "   ```\n",
    "   ace-controller-ace-controller-deployment -> assets -> app-storage-volume -> src -> bot.py\n",
    "   ```\n",
    "2. Open the `bot.py` file.\n",
    "\n",
    "![Avatar Controller Config](pictures/ace_controller_bot.png)\n",
    "\n",
    "3. Add the following lines to initialize the guardrails processor. You can provide the list of your choice for the blocked topics and the message to respond to the blocked topics."
   ]
  },
  {
   "cell_type": "code",
   "execution_count": null,
   "id": "cb8bf9cd",
   "metadata": {},
   "outputs": [],
   "source": [
    "# Example snippet to be added to the bot.py file \n",
    "from nvidia_pipecat.processors.guardrail import GuardrailProcessor\n",
    "\n",
    "guardrail = GuardrailProcessor(blocked_words=[\"pasta\", \"football\"], block_message=\"I am not allowed to answer this question\")"
   ]
  },
  {
   "cell_type": "markdown",
   "id": "9cd116f3",
   "metadata": {},
   "source": [
    "4. Add the `guardrail` processor in the pipeline. "
   ]
  },
  {
   "cell_type": "code",
   "execution_count": null,
   "id": "9898ab99",
   "metadata": {},
   "outputs": [],
   "source": [
    "# Example snippet from the bot.py file \n",
    "\n",
    "pipeline = Pipeline(\n",
    "    [\n",
    "        transport.input(),\n",
    "        # audio_recorder,\n",
    "        user_presence_processor,\n",
    "        stt, # Speech-To-Text\n",
    "        #guardrail, # <--- Add the guardrail processor here, after speech-to-text processor\n",
    "        stt_transcript_synchronization,\n",
    "        nvidia_context_aggregator.user(),"
   ]
  },
  {
   "cell_type": "markdown",
   "id": "c74eb56b",
   "metadata": {},
   "source": [
    "### Upload the Changes\n",
    "Save your local changes in VSCode. \n",
    "In the ACE Configurator view in VSCode, click the **Upload** button to upload the modified `bot.py` file."
   ]
  },
  {
   "cell_type": "markdown",
   "id": "93b4832e",
   "metadata": {},
   "source": [
    "![Avatar Controller Upload Config](pictures/upload_config.png)"
   ]
  },
  {
   "cell_type": "markdown",
   "id": "52866997",
   "metadata": {},
   "source": [
    "Ensure that the changes are finished updating. This might take a few seconds.\n",
    "\n",
    "Once the changes are successfully updated. the ACE Configurator view will show a green `Synced` symbol again for the app-storage-volume. "
   ]
  },
  {
   "cell_type": "markdown",
   "id": "d2f53283",
   "metadata": {},
   "source": [
    "![Avatar Controller Upload Config](pictures/ace-configurator-synced.png)"
   ]
  },
  {
   "cell_type": "markdown",
   "metadata": {},
   "source": [
    "\n",
    "### Refresh the Browser UI\n",
    "\n",
    "1. Open the browser UI where the digital human is hosted. (your current URL:30111)\n",
    "2. Refresh the page.(Note: you might need to refresh it a couple of times)\n",
    "3. Start a conversation with the digital human.\n",
    "###  Test the Guardrails\n",
    "\n",
    "1. Try to discuss topics that are in the blocked list.\n",
    "2. Observe that the digital human declines to respond to those topics."
   ]
  },
  {
   "cell_type": "markdown",
   "metadata": {},
   "source": [
    "### Conclusion\n",
    "You have successfully reconfigured the ACE digital human and tested the changes. 🎉"
   ]
  }
 ],
 "metadata": {
  "kernelspec": {
   "display_name": "base",
   "language": "python",
   "name": "python3"
  },
  "language_info": {
   "codemirror_mode": {
    "name": "ipython",
    "version": 3
   },
   "file_extension": ".py",
   "mimetype": "text/x-python",
   "name": "python",
   "nbconvert_exporter": "python",
   "pygments_lexer": "ipython3",
   "version": "3.11.5"
  }
 },
 "nbformat": 4,
 "nbformat_minor": 5
}
